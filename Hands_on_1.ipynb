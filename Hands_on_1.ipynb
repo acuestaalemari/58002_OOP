{
  "nbformat": 4,
  "nbformat_minor": 0,
  "metadata": {
    "colab": {
      "provenance": [],
      "authorship_tag": "ABX9TyPk+3iIS5OO6TCDlzdG85vX",
      "include_colab_link": true
    },
    "kernelspec": {
      "name": "python3",
      "display_name": "Python 3"
    },
    "language_info": {
      "name": "python"
    }
  },
  "cells": [
    {
      "cell_type": "markdown",
      "metadata": {
        "id": "view-in-github",
        "colab_type": "text"
      },
      "source": [
        "<a href=\"https://colab.research.google.com/github/acuestaalemari/58002_OOP/blob/main/Hands_on_1.ipynb\" target=\"_parent\"><img src=\"https://colab.research.google.com/assets/colab-badge.svg\" alt=\"Open In Colab\"/></a>"
      ]
    },
    {
      "cell_type": "code",
      "execution_count": 11,
      "metadata": {
        "colab": {
          "base_uri": "https://localhost:8080/"
        },
        "id": "4-_l4olj_tEI",
        "outputId": "063f5777-a8ab-4cc2-d969-6838e8171ae3"
      },
      "outputs": [
        {
          "output_type": "stream",
          "name": "stdout",
          "text": [
            "Student 1 grades: 82 93 94\n",
            "Student 1 average grade: 89.66666666666667\n",
            "Student 2 grades: 79 84 88\n",
            "Student 2 average grade: 83.66666666666667\n",
            "Student 3 grades: 93 91 82\n",
            "Student 3 average grade: 88.66666666666667\n"
          ]
        }
      ],
      "source": [
        "class Person:\n",
        "    def __init__(self, name, prelim, midterm, final):\n",
        "        self.name = name\n",
        "        self.__prelim = prelim\n",
        "        self.__midterm = midterm\n",
        "        self.__final = final\n",
        "        \n",
        "    def prelim_grade(self):\n",
        "        return self.__prelim\n",
        "    \n",
        "    def midterm_grade(self):\n",
        "        return self.__midterm\n",
        "    \n",
        "    def final_grade(self):\n",
        "        return self.__final\n",
        "    \n",
        "    def grade_average(self):\n",
        "        return (self.__prelim + self.__midterm + self.__final) / 3\n",
        "\n",
        "student1 = Person(\"Student 1\", 82, 93, 94)\n",
        "student2 = Person(\"Student 2\", 79, 84, 88)\n",
        "student3 = Person(\"Student 3\", 93, 91, 82)\n",
        "\n",
        "print(f\"Student 1 grades:\", \n",
        "      student1.prelim_grade(), \n",
        "      student1.midterm_grade(), \n",
        "      student1.final_grade())\n",
        "print(f\"Student 1 average grade:\",\n",
        "      student1.grade_average())\n",
        "print(f\"Student 2 grades:\", \n",
        "      student2.prelim_grade(), \n",
        "      student2.midterm_grade(), \n",
        "      student2.final_grade())\n",
        "print(f\"Student 2 average grade:\",\n",
        "      student2.grade_average())\n",
        "print(f\"Student 3 grades:\",\n",
        "      student3.prelim_grade(), \n",
        "      student3.midterm_grade(),\n",
        "      student3.final_grade())\n",
        "print(f\"Student 3 average grade:\",\n",
        "      student3.grade_average())\n",
        "\n"
      ]
    }
  ]
}