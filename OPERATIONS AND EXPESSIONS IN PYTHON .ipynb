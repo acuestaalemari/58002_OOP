{
  "nbformat": 4,
  "nbformat_minor": 0,
  "metadata": {
    "colab": {
      "provenance": [],
      "authorship_tag": "ABX9TyPAkrOSlG3x0okpkTdM1lRf",
      "include_colab_link": true
    },
    "kernelspec": {
      "name": "python3",
      "display_name": "Python 3"
    },
    "language_info": {
      "name": "python"
    }
  },
  "cells": [
    {
      "cell_type": "markdown",
      "metadata": {
        "id": "view-in-github",
        "colab_type": "text"
      },
      "source": [
        "<a href=\"https://colab.research.google.com/github/acuestaalemari/58002_OOP/blob/main/OPERATIONS%20AND%20EXPESSIONS%20IN%20PYTHON%20.ipynb\" target=\"_parent\"><img src=\"https://colab.research.google.com/assets/colab-badge.svg\" alt=\"Open In Colab\"/></a>"
      ]
    },
    {
      "cell_type": "code",
      "source": [
        "print(10>9)\n",
        "print(10<9)\n",
        "print(10==9)"
      ],
      "metadata": {
        "colab": {
          "base_uri": "https://localhost:8080/"
        },
        "id": "xOVs0JWez7xb",
        "outputId": "bc79f49f-13b6-4bf8-fd8f-2aa1d96b0fa7"
      },
      "execution_count": 6,
      "outputs": [
        {
          "output_type": "stream",
          "name": "stdout",
          "text": [
            "True\n",
            "False\n",
            "False\n"
          ]
        }
      ]
    },
    {
      "cell_type": "code",
      "source": [
        "a = 10\n",
        "b = 9\n",
        "\n",
        "print(a>b)\n",
        "print(a<b)\n",
        "print(a==b)\n",
        "print(b==b)"
      ],
      "metadata": {
        "id": "bqlAxp7P0gg7"
      },
      "execution_count": null,
      "outputs": []
    },
    {
      "cell_type": "code",
      "source": [
        "Bool() functions"
      ],
      "metadata": {
        "id": "0ovbGmxJ02nq"
      },
      "execution_count": null,
      "outputs": []
    },
    {
      "cell_type": "code",
      "execution_count": null,
      "metadata": {
        "id": "Yw8JKL6gzoAj"
      },
      "outputs": [],
      "source": [
        "Boolean Operators"
      ]
    },
    {
      "cell_type": "code",
      "source": [
        "print (bool(1))\n",
        "print (bool(\"ana\"))\n",
        "print (bool(0))\n",
        "print (bool(None))\n"
      ],
      "metadata": {
        "id": "nPPIeYeD1FYb"
      },
      "execution_count": null,
      "outputs": []
    },
    {
      "cell_type": "code",
      "source": [
        "def myFunctions():\n",
        "\n",
        "  return False\n",
        "\n",
        "  print (myFunction())"
      ],
      "metadata": {
        "id": "DgrMaSkW2V7s"
      },
      "execution_count": 16,
      "outputs": []
    },
    {
      "cell_type": "code",
      "source": [
        "def myFunction():\n",
        "   \n",
        "  return True\n",
        "\n",
        "if myFunction():\n",
        "      print(\"Yes!\")\n",
        "else:\n",
        "      print(\"No!\")"
      ],
      "metadata": {
        "id": "rNum-BjO2oGb"
      },
      "execution_count": null,
      "outputs": []
    },
    {
      "cell_type": "code",
      "source": [
        "print(10+5)\n",
        "print(10-5)\n",
        "print(10*5)\n",
        "print(10/5)\n",
        "print(10%5)\n",
        "print(10//3)\n",
        "print(10**2)"
      ],
      "metadata": {
        "id": "801uXb0Z4LqD"
      },
      "execution_count": null,
      "outputs": []
    },
    {
      "cell_type": "code",
      "source": [
        "print(10>9)\n",
        "\n",
        "a=6\n",
        "b=7\n",
        "print(a==b)\n",
        "print(a!=a)"
      ],
      "metadata": {
        "colab": {
          "base_uri": "https://localhost:8080/"
        },
        "id": "t0UB2Qjo3hnj",
        "outputId": "91cd9332-1158-4824-f635-43c242453f31"
      },
      "execution_count": 49,
      "outputs": [
        {
          "output_type": "stream",
          "name": "stdout",
          "text": [
            "True\n",
            "False\n",
            "False\n"
          ]
        }
      ]
    },
    {
      "cell_type": "code",
      "source": [
        "a =60\n",
        "b= 13\n",
        "a<<1"
      ],
      "metadata": {
        "id": "LPBn0YCA8NAq"
      },
      "execution_count": null,
      "outputs": []
    },
    {
      "cell_type": "markdown",
      "source": [
        "Python Assignment Operators"
      ],
      "metadata": {
        "id": "RPkLYd7m-gbB"
      }
    },
    {
      "cell_type": "code",
      "source": [
        "x = 1\n",
        "x+= 3\n",
        "print(x)"
      ],
      "metadata": {
        "id": "_EoqN5ff-moB"
      },
      "execution_count": null,
      "outputs": []
    },
    {
      "cell_type": "markdown",
      "source": [
        "Identity Operation"
      ],
      "metadata": {
        "id": "W_VG40xWCajh"
      }
    },
    {
      "cell_type": "code",
      "source": [
        "print(x is y)\n",
        "print(x is not y)"
      ],
      "metadata": {
        "id": "4XhuqWqNCQ9B"
      },
      "execution_count": null,
      "outputs": []
    },
    {
      "cell_type": "markdown",
      "source": [
        "Application 1 Create aritmetic calculator (MDAS)"
      ],
      "metadata": {
        "id": "AsWP7S3aCCRh"
      }
    },
    {
      "cell_type": "code",
      "source": [
        "print(\"Basic Calculator in Python\")\n",
        "print(\"Input the 1st num\")\n",
        "x = int(input())\n",
        "print(\"Input the 2nd num\")\n",
        "y = int(input())\n",
        "print(\"answer\")\n",
        "\n",
        "print (x+y)\n",
        "print (x-y)\n",
        "print (x*y)\n",
        "print (x/y)\n",
        "print (x//y)\n",
        "\n"
      ],
      "metadata": {
        "id": "I9uSZHFDHr52"
      },
      "execution_count": null,
      "outputs": []
    }
  ]
}