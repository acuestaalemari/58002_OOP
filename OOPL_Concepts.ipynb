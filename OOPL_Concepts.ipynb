{
  "nbformat": 4,
  "nbformat_minor": 0,
  "metadata": {
    "colab": {
      "provenance": [],
      "authorship_tag": "ABX9TyP61T91X+KYYhUmYs05Tavw",
      "include_colab_link": true
    },
    "kernelspec": {
      "name": "python3",
      "display_name": "Python 3"
    },
    "language_info": {
      "name": "python"
    }
  },
  "cells": [
    {
      "cell_type": "markdown",
      "metadata": {
        "id": "view-in-github",
        "colab_type": "text"
      },
      "source": [
        "<a href=\"https://colab.research.google.com/github/acuestaalemari/58002_OOP/blob/main/OOPL_Concepts.ipynb\" target=\"_parent\"><img src=\"https://colab.research.google.com/assets/colab-badge.svg\" alt=\"Open In Colab\"/></a>"
      ]
    },
    {
      "cell_type": "code",
      "execution_count": null,
      "metadata": {
        "id": "FHmHB0R1yaTS"
      },
      "outputs": [],
      "source": [
        "#Class Constructor\n",
        "\n",
        "class Car:\n",
        "  pass"
      ]
    },
    {
      "cell_type": "code",
      "source": [
        "#Create a class\n",
        "\n",
        "class MyNumber:\n",
        "  x = 5\n",
        "\n",
        "num1 = MyNumber()\n",
        "print(num1.x)"
      ],
      "metadata": {
        "colab": {
          "base_uri": "https://localhost:8080/"
        },
        "id": "Qtv2sGw3yz0U",
        "outputId": "2a47dd2c-92ec-4751-dfeb-462245d877cd"
      },
      "execution_count": null,
      "outputs": [
        {
          "output_type": "stream",
          "name": "stdout",
          "text": [
            "5\n"
          ]
        }
      ]
    },
    {
      "cell_type": "code",
      "source": [
        "class Person:\n",
        "  def init (self, name, age):\n",
        "    self.name = name\n",
        "    self.age = age\n",
        "  def myFunction(self):\n",
        "    print(\"Hello, my name is\", self.name)\n",
        "    person = Person(\"Maria, 40\")\n",
        "    person.myFunction()\n"
      ],
      "metadata": {
        "id": "y7tUmqYBzIha"
      },
      "execution_count": null,
      "outputs": []
    },
    {
      "cell_type": "code",
      "source": [
        "#Modification of Object Properties\n",
        "Person.name = \"Ana\"\n",
        "print(Person.name)\n",
        "Person. myFunction()"
      ],
      "metadata": {
        "id": "C0OVp4l3z769"
      },
      "execution_count": null,
      "outputs": []
    },
    {
      "cell_type": "code",
      "source": [
        "#Deletion of Object Properties\n",
        "del Person.age\n",
        "print(Person.name)\n",
        "print(Person.age)"
      ],
      "metadata": {
        "id": "1wfgIncW0SP0"
      },
      "execution_count": null,
      "outputs": []
    },
    {
      "cell_type": "code",
      "source": [
        "class Shapes:\n",
        "  def __init__(self,side):\n",
        "    self.side = side\n",
        "\n",
        "  def area(self):\n",
        "    return self.side *self.side\n",
        "\n",
        "  def display(self):\n",
        "    print(\"The area of the square is\",self.area())\n",
        "\n",
        "square = Shapes(5)\n",
        "print(square.area())\n",
        "print(square.display())"
      ],
      "metadata": {
        "id": "10SJDl1v1qnu"
      },
      "execution_count": null,
      "outputs": []
    },
    {
      "cell_type": "code",
      "source": [
        "#Inheritance\n",
        "\n",
        "class Shapes:\n",
        "  def __init__(self,side1,side2):\n",
        "    self.side1 = side1\n",
        "    self.side2 = side2\n",
        "  \n",
        "class Square(Shapes):\n",
        "  def area_square(self):\n",
        "    return self.side1*self.side1\n",
        "  def display_square(self):\n",
        "    print(\"The area of square is\",self.area_square())\n",
        "\n",
        "\n",
        "class Rectangle(Shapes):\n",
        "  def area_rectangle(self):\n",
        "    print(self.side1*self.side2)\n",
        "  def display_rectangle(self):\n",
        "    print(\"The area of rectangle is\",self.display_rectangle())\n",
        "\n",
        "square = Square(4,4)\n",
        "\n",
        "rectangle = Rectangle(10,5)\n",
        "\n",
        "square.display_square()\n",
        "rectangle.display_rectangle()\n"
      ],
      "metadata": {
        "id": "xIVia8hR_Rj7"
      },
      "execution_count": null,
      "outputs": []
    },
    {
      "cell_type": "code",
      "source": [
        "#Create a Python program with the following:\n",
        "#Student as class name\n",
        "#Fullname, Student Number, and School as attribute names\n",
        "#Construct a method to display the values of attributes\n",
        "#Use student as object name\n",
        "\n",
        "class Student:\n",
        "  def __init__(self, fullname, st_num, school):\n",
        "    self.fullname = fullname\n",
        "    self.st_num = st_num\n",
        "    self.school = school\n",
        "\n",
        "  def display(self):\n",
        "    print(f\"I am {self.fullname}, my student number is {self.st_num}, and I study at {self.school}\")\n",
        "\n",
        "print(\"What is your fullname?\")\n",
        "Name = str(input())\n",
        "print(\"Student Number:\")\n",
        "SN = int(input())\n",
        "print(\"What School?\")\n",
        "School = str(input())\n",
        "print(\" \")\n",
        "\n",
        "student = Student(Name, SN, School)\n",
        "student.display()"
      ],
      "metadata": {
        "colab": {
          "base_uri": "https://localhost:8080/"
        },
        "id": "uHADeP7pB5kl",
        "outputId": "7189bb1b-4754-4dcb-e445-3d9d424de529"
      },
      "execution_count": 2,
      "outputs": [
        {
          "output_type": "stream",
          "name": "stdout",
          "text": [
            "What is your fullname?\n",
            "Alemari\n",
            "Student Number:\n",
            "123456789\n",
            "What School?\n",
            "Adamson\n",
            " \n",
            "I am Alemari, my student number is 123456789, and I study at Adamson\n"
          ]
        }
      ]
    }
  ]
}