{
  "nbformat": 4,
  "nbformat_minor": 0,
  "metadata": {
    "colab": {
      "provenance": [],
      "authorship_tag": "ABX9TyPFZViO7gUYpCaiV9JC/918",
      "include_colab_link": true
    },
    "kernelspec": {
      "name": "python3",
      "display_name": "Python 3"
    },
    "language_info": {
      "name": "python"
    }
  },
  "cells": [
    {
      "cell_type": "markdown",
      "metadata": {
        "id": "view-in-github",
        "colab_type": "text"
      },
      "source": [
        "<a href=\"https://colab.research.google.com/github/acuestaalemari/58002_OOP/blob/main/PythonFundamentals.ipynb\" target=\"_parent\"><img src=\"https://colab.research.google.com/assets/colab-badge.svg\" alt=\"Open In Colab\"/></a>"
      ]
    },
    {
      "cell_type": "code",
      "execution_count": 2,
      "metadata": {
        "colab": {
          "base_uri": "https://localhost:8080/"
        },
        "id": "FXNHkCh2wiY_",
        "outputId": "cd2468b3-932b-48d2-9ff1-4fc13b3810b3"
      },
      "outputs": [
        {
          "output_type": "stream",
          "name": "stdout",
          "text": [
            "Hello World\n"
          ]
        }
      ],
      "source": [
        "#this ia comment\n",
        "print(\"Hello World\")"
      ]
    },
    {
      "cell_type": "code",
      "source": [
        "#single variable with single value\n",
        "\n",
        "x = 1\n",
        "y = 2\n",
        "\n",
        "print (x)\n",
        "print (y)\n",
        "\n",
        "#single variable with single value\n",
        "a = b = c = \"Maria\"\n",
        "print (a)\n",
        "print (b)\n",
        "print (c)\n",
        "\n",
        "#single variable with single value\n",
        "e = f = g = \"1, 2 ,3\"\n",
        "print (e)\n",
        "print (f)\n",
        "print (g)"
      ],
      "metadata": {
        "id": "V2Ks_EoMyzhk"
      },
      "execution_count": null,
      "outputs": []
    },
    {
      "cell_type": "code",
      "source": [
        "v = \"sally\"\n",
        "u = \"sally\"\n",
        "\n",
        "print (v)\n",
        "print (u)"
      ],
      "metadata": {
        "id": "6bmpMiAI1JqC"
      },
      "execution_count": null,
      "outputs": []
    },
    {
      "cell_type": "code",
      "source": [
        "p = float(5)\n",
        "p\n"
      ],
      "metadata": {
        "id": "xr6dLkwB2Ntp"
      },
      "execution_count": null,
      "outputs": []
    },
    {
      "cell_type": "code",
      "source": [
        "f =\"ana\"\n",
        "g= 4.56\n",
        "\n",
        "print (type(f))\n",
        "print (type(g))\n",
        "\n"
      ],
      "metadata": {
        "id": "3QZvgz-N2aoA"
      },
      "execution_count": null,
      "outputs": []
    },
    {
      "cell_type": "code",
      "source": [
        "k = \" enjoying\"\n",
        "j = \"Pythin programming is \"\n",
        "\n",
        "print (\"Python programming is\" + k ) \n",
        "print (j + k)"
      ],
      "metadata": {
        "colab": {
          "base_uri": "https://localhost:8080/"
        },
        "id": "cuyS7lpo38hf",
        "outputId": "a6c8fffb-081e-44b3-9738-5d224e1131d1"
      },
      "execution_count": 15,
      "outputs": [
        {
          "output_type": "stream",
          "name": "stdout",
          "text": [
            "Python programming is enjoying\n",
            "Pythin programming is  enjoying\n"
          ]
        }
      ]
    }
  ]
}