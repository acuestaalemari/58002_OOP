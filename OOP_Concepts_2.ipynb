{
  "nbformat": 4,
  "nbformat_minor": 0,
  "metadata": {
    "colab": {
      "provenance": [],
      "authorship_tag": "ABX9TyOeZ9f8YXCOdZ8evzvRPeBv",
      "include_colab_link": true
    },
    "kernelspec": {
      "name": "python3",
      "display_name": "Python 3"
    },
    "language_info": {
      "name": "python"
    }
  },
  "cells": [
    {
      "cell_type": "markdown",
      "metadata": {
        "id": "view-in-github",
        "colab_type": "text"
      },
      "source": [
        "<a href=\"https://colab.research.google.com/github/acuestaalemari/58002_OOP/blob/main/OOP_Concepts_2.ipynb\" target=\"_parent\"><img src=\"https://colab.research.google.com/assets/colab-badge.svg\" alt=\"Open In Colab\"/></a>"
      ]
    },
    {
      "cell_type": "code",
      "execution_count": 24,
      "metadata": {
        "colab": {
          "base_uri": "https://localhost:8080/"
        },
        "id": "aE0ELzbz8FTX",
        "outputId": "212c1d5f-9dbc-4545-e2e3-03237d080a63"
      },
      "outputs": [
        {
          "output_type": "stream",
          "name": "stdout",
          "text": [
            "7\n"
          ]
        }
      ],
      "source": [
        "class Foo():\n",
        "  def __init__(self, a, b):\n",
        "    self.a = a\n",
        "    self.b = b\n",
        "  def add(self):\n",
        "    return self.a + self.b\n",
        "foo_object = Foo(3, 4)\n",
        "print(foo_object.add())"
      ]
    },
    {
      "cell_type": "code",
      "source": [
        "#class with multiple object\n",
        "\n",
        "class birds:\n",
        "  def __init__(self, name_birds):\n",
        "   self.name_birds = name_birds\n",
        "  def flying_birds(self):\n",
        "   print(f\"The {self.name_birds} is the flying bird above the sky\")\n",
        "  def non_flying_birds(self):\n",
        "     print(f\"The {self.name_birds} is the non flying bird above the sky\")\n",
        "\n",
        "eagle = birds(\"Eagle\")\n",
        "chicken = birds(\"Chicken\")\n",
        "eagle.flying_birds()\n",
        "chicken.non_flying_birds()"
      ],
      "metadata": {
        "colab": {
          "base_uri": "https://localhost:8080/"
        },
        "id": "Jgs_ILv4-RaT",
        "outputId": "37c91b44-6011-4fe3-eb20-039218459b90"
      },
      "execution_count": 19,
      "outputs": [
        {
          "output_type": "stream",
          "name": "stdout",
          "text": [
            "The Eagle is the flying bird above the sky\n",
            "The Chicken is the non flying bird above the sky\n"
          ]
        }
      ]
    },
    {
      "cell_type": "code",
      "source": [
        "#inheritance\n",
        "class Person:\n",
        "  def __init__(self, name, birthdate):\n",
        "    self.name = name\n",
        "    self.birthdate = birthdate\n",
        "  def display(self):\n",
        "    print(\"My name is\", self.name)\n",
        "    print(\"My birthdate is\", self.birthdate)\n",
        "class Student(Person):\n",
        "  pass\n",
        "\n",
        "person = Person(\"Maria\", \"Febuary 13, 1990\")\n",
        "person.display()\n",
        "\n",
        "student = Student(\"Ana\", \"March 14, 1991\")\n",
        "student.display()"
      ],
      "metadata": {
        "colab": {
          "base_uri": "https://localhost:8080/"
        },
        "id": "M7eQjY2kBriH",
        "outputId": "224b8899-27ea-4bd8-a594-16811427eae2"
      },
      "execution_count": 25,
      "outputs": [
        {
          "output_type": "stream",
          "name": "stdout",
          "text": [
            "My name is Maria\n",
            "My birthdate is Febuary 13, 1990\n",
            "My name is Ana\n",
            "My birthdate is March 14, 1991\n"
          ]
        }
      ]
    },
    {
      "cell_type": "code",
      "source": [
        "#create a class name shapes (5 shapes)\n",
        "#attributes side\n",
        "#create a function/method that displays the no. of sides of each shape\n",
        "#apply inheritance and encapsultation\n",
        "\n",
        "class Shape:\n",
        "  def __init__(self, name, shape):\n",
        "    self.name = name\n",
        "    self.shape = shape\n",
        "  def display(self):\n",
        "    print(\"The shape is\", self.name)\n",
        "    print(\"It has\", self.shape)\n",
        "class Shape(Shape):\n",
        "  pass\n",
        "\n",
        "shape = Shape(\"Triangle\", \"Three sides\")\n",
        "shape.display()\n",
        "\n",
        "shape = Shape(\"Square\", \"Four sides\")\n",
        "shape.display()\n",
        "\n",
        "shape = Shape(\"Pentagon\", \"Five sides\")\n",
        "shape.display()\n",
        "\n",
        "shape = Shape(\"Heptagon\", \"Seven sides\")\n",
        "shape.display()\n",
        "\n",
        "shape = Shape(\"Hexagon\", \"Six sides\")\n",
        "shape.display()\n"
      ],
      "metadata": {
        "colab": {
          "base_uri": "https://localhost:8080/"
        },
        "id": "IN6iyasZHLHm",
        "outputId": "da9267b7-7b86-40d8-d36b-183fce90db3b"
      },
      "execution_count": 31,
      "outputs": [
        {
          "output_type": "stream",
          "name": "stdout",
          "text": [
            "The shape is Triangle\n",
            "It has Three sides\n",
            "The shape is Square\n",
            "It has Four sides\n",
            "The shape is Pentagon\n",
            "It has Five sides\n",
            "The shape is Heptagon\n",
            "It has Seven sides\n",
            "The shape is Hexagon\n",
            "It has Six sides\n"
          ]
        }
      ]
    }
  ]
}