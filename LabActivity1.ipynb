{
  "nbformat": 4,
  "nbformat_minor": 0,
  "metadata": {
    "colab": {
      "provenance": [],
      "authorship_tag": "ABX9TyPdBbroK9xExPWmRTR+SGDb",
      "include_colab_link": true
    },
    "kernelspec": {
      "name": "python3",
      "display_name": "Python 3"
    },
    "language_info": {
      "name": "python"
    }
  },
  "cells": [
    {
      "cell_type": "markdown",
      "metadata": {
        "id": "view-in-github",
        "colab_type": "text"
      },
      "source": [
        "<a href=\"https://colab.research.google.com/github/acuestaalemari/58002_OOP/blob/main/LabActivity1.ipynb\" target=\"_parent\"><img src=\"https://colab.research.google.com/assets/colab-badge.svg\" alt=\"Open In Colab\"/></a>"
      ]
    },
    {
      "cell_type": "markdown",
      "source": [
        "Activity Lab 1"
      ],
      "metadata": {
        "id": "VTHH36oKo3vm"
      }
    },
    {
      "cell_type": "code",
      "source": [
        "n = 40\n",
        "total_n = n\n",
        "sum = 0\n",
        "average = 0\n",
        "\n",
        "while n >+ 0:\n",
        "  sum += n\n",
        "  n -= 1\n",
        "else:\n",
        "    print(\"Sum =\" , sum)\n",
        "    average = sum / total_n\n",
        "    print(\"Average =\" , average)"
      ],
      "metadata": {
        "colab": {
          "base_uri": "https://localhost:8080/"
        },
        "id": "56cD_jSU1FeI",
        "outputId": "c38b66d7-75db-4061-a0a7-290b549f4a2f"
      },
      "execution_count": 6,
      "outputs": [
        {
          "output_type": "stream",
          "name": "stdout",
          "text": [
            "Sum = 820\n",
            "Average = 20.5\n"
          ]
        }
      ]
    }
  ]
}